{
 "cells": [
  {
   "cell_type": "code",
   "execution_count": 21,
   "id": "d87b3c05-9ad6-4a58-ae21-c699a18107af",
   "metadata": {
    "tags": []
   },
   "outputs": [],
   "source": [
    "import boto3\n",
    "import json\n",
    "import base64\n",
    "import time\n",
    "from botocore.config import Config\n",
    "config = Config(\n",
    "       connect_timeout=1000,\n",
    "    read_timeout=1000,\n",
    ")\n",
    "\n",
    "session = boto3.session.Session(region_name='us-east-1')\n",
    "client = session.client(service_name = 'bedrock-runtime', \n",
    "                                 config=config)\n",
    "\n",
    "\n",
    "PRO_MODEL_ID = \"us.amazon.nova-pro-v1:0\"\n",
    "LITE_MODEL_ID = \"us.amazon.nova-lite-v1:0\"\n",
    "MICRO_MODEL_ID = \"us.amazon.nova-micro-v1:0\""
   ]
  },
  {
   "cell_type": "code",
   "execution_count": 87,
   "id": "6fb36c95-0cf1-428e-aeee-225d516d3341",
   "metadata": {
    "tags": []
   },
   "outputs": [],
   "source": [
    "from json import JSONDecodeError\n",
    "import re\n",
    "def parse(pattern:str, text: str) -> str:\n",
    "    match = re.search(pattern, text, re.DOTALL)\n",
    "    if match:\n",
    "        text = match.group(1)\n",
    "        return text.strip()\n",
    "    else:\n",
    "        raise JSONDecodeError"
   ]
  },
  {
   "cell_type": "markdown",
   "id": "c97d83d4-39ef-491f-aa20-8bcdf1403f2b",
   "metadata": {},
   "source": [
    "## Canvas\n",
    "- text 2 image"
   ]
  },
  {
   "cell_type": "code",
   "execution_count": 80,
   "id": "17afc48d-4d6f-466c-980b-c831e5b20b1e",
   "metadata": {
    "tags": []
   },
   "outputs": [],
   "source": [
    "system_1 = \\\n",
    "\"\"\"\n",
    "You are a Prompt Rewriting Expert for text-to-image models, with extensive knowledge in photography and panting. \n",
    "You specialize in helping users improve their text prompts according to specific rules to achieve better model outputs, sometimes modifying the original intent if necessary. \n",
    "\n",
    "##You excel in the following areas:##\n",
    "Comprehensive understanding of the world, physical laws, and various interactive video scenarios\n",
    "Rich imagination to visualize perfect, visually striking video scenes from simple prompts\n",
    "Extensive film industry expertise as a master director, capable of enhancing simple video descriptions with optimal cinematography and visual effects\n",
    "\n",
    "##Your prompt rewriting should follow these guidelines:##\n",
    "- Prompting for image generation models differs from prompting for large language models (LLMs). Image generation models do not have the ability to reason or interpret explicit commands. Therefore, it's best to phrase your prompt as if it were an image caption rather than a command or conversation.You might want to include details about the subject, action, environment, lighting, style, and camera position.\n",
    "- Consider adding modifiers like aspect ratios, image quality settings, or post-processing instructions to refine the output.\n",
    "- Avoid topics such as pornography, racial discrimination, and toxic words.\n",
    "- Be concise and less then 90 words.\n",
    "- Do not use negation words like \"no\", \"not\", \"without\", and so on in your prompt. The model doesn't understand negation in a prompt and attempting to use negation will result in the opposite of what you intend. For example, a prompt such as \"a fruit basket with no bananas\" will actually signal the model to include bananas. Instead, you can use a negative prompt, via the negative prompt, to specify any objects or characteristics that you want to exclude from the image. For example \"bananas\".\n",
    "- An effective prompt often includes short descriptions of...\n",
    "1. the subject\n",
    "2. the environment\n",
    "3. (optional) the position or pose of the subject\n",
    "4. (optional) lighting description\n",
    "5. (optional) camera position/framing\n",
    "6. (optional) the visual style or medium (\"photo\", \"illustration\", \"painting\", and so on)\n",
    "\n",
    "##Good Examples##\n",
    "- Prompt: realistic editorial photo of female teacher standing at a blackboard with a warm smile\n",
    "- Negative Prompt: crossed arms\n",
    "\n",
    "- Prompt: whimsical and ethereal soft-shaded story illustration: A woman in a large hat stands at the ship's railing looking out across the ocean\n",
    "- Negative Prompt: clouds, waves\n",
    "\n",
    "- Prompt: drone view of a dark river winding through a stark Iceland landscape, cinematic quality\n",
    "\n",
    "- Prompt: A cool looking stylish man in an orange jacket, dark skin, wearing reflective glasses. Shot from slightly low angle, face and chest in view, aqua blue sleek building shapes in background.\n",
    "\n",
    "##Ouput instruction##\n",
    "Users may input prompts in Chinese or English, but your final output should be a single English paragraph not exceeding 90 words.\n",
    "Put the prompt in <prompt></prompt>, and if has negative prompt, then put in <negative_prompt></negative_prompt>\n",
    "\n",
    "\"\"\""
   ]
  },
  {
   "cell_type": "code",
   "execution_count": 93,
   "id": "4d0ab939-0a6a-4302-a90a-a2048b5d489f",
   "metadata": {
    "tags": []
   },
   "outputs": [],
   "source": [
    "user_prompt = \"吃冰棍的小女孩\""
   ]
  },
  {
   "cell_type": "code",
   "execution_count": 94,
   "id": "bd63dab1-db4e-4372-b77b-86e40462fe62",
   "metadata": {
    "tags": []
   },
   "outputs": [
    {
     "name": "stdout",
     "output_type": "stream",
     "text": [
      "<prompt>Young girl enjoying a popsicle on a sunny day, vibrant summer colors, close-up shot highlighting her joyful expression and the popsicle, soft background of a park with green foliage.</prompt>\n",
      "<negative_prompt>overly bright colors, unnatural expressions</negative_prompt>CPU times: user 25 ms, sys: 52 µs, total: 25 ms\n",
      "Wall time: 1.38 s\n"
     ]
    }
   ],
   "source": [
    "%%time\n",
    "system = [\n",
    "    {\n",
    "        \"text\": system_1\n",
    "    }\n",
    "]\n",
    "\n",
    "messages = [\n",
    "    {\n",
    "        \"role\": \"user\",\n",
    "        \"content\": [\n",
    "         {\"text\": f\"Please optimize:{user_prompt}\"},\n",
    "        ],\n",
    "    }\n",
    "]\n",
    "\n",
    "# Configure the inference parameters.\n",
    "inf_params = {\"maxTokens\": 2000, \"topP\": 0.9, \"temperature\": 0.8}\n",
    "\n",
    "\n",
    "model_response = client.converse_stream(\n",
    "    modelId=PRO_MODEL_ID, messages=messages, system=system, inferenceConfig=inf_params\n",
    ")\n",
    "\n",
    "text = \"\"\n",
    "stream = model_response.get(\"stream\")\n",
    "if stream:\n",
    "    for event in stream:\n",
    "        if \"contentBlockDelta\" in event:\n",
    "            text += event[\"contentBlockDelta\"][\"delta\"][\"text\"]\n",
    "            print(event[\"contentBlockDelta\"][\"delta\"][\"text\"], end=\"\")"
   ]
  },
  {
   "cell_type": "code",
   "execution_count": 95,
   "id": "bc75fabe-49bd-4353-8e29-d3725dc28fa7",
   "metadata": {
    "tags": []
   },
   "outputs": [
    {
     "name": "stdout",
     "output_type": "stream",
     "text": [
      "182\n",
      "Young girl enjoying a popsicle on a sunny day, vibrant summer colors, close-up shot highlighting her joyful expression and the popsicle, soft background of a park with green foliage.\n"
     ]
    }
   ],
   "source": [
    "generated_prompt = parse(pattern = r\"<prompt>(.*?)</prompt>\",text=text)\n",
    "print(len(generated_prompt))\n",
    "print(generated_prompt)"
   ]
  },
  {
   "cell_type": "code",
   "execution_count": 96,
   "id": "1a98abea-518f-4967-b7c0-2c9e8cb0d65b",
   "metadata": {
    "tags": []
   },
   "outputs": [
    {
     "name": "stdout",
     "output_type": "stream",
     "text": [
      "43\n",
      "overly bright colors, unnatural expressions\n"
     ]
    }
   ],
   "source": [
    "negative_prompt = parse(pattern = r\"<negative_prompt>(.*?)</negative_prompt>\",text=text)\n",
    "print(len(negative_prompt))\n",
    "print(negative_prompt)"
   ]
  },
  {
   "cell_type": "code",
   "execution_count": 91,
   "id": "bc881297-0d1c-4b5d-9d4a-e05146339c44",
   "metadata": {
    "tags": []
   },
   "outputs": [],
   "source": [
    "import base64\n",
    "import io\n",
    "import json\n",
    "import logging\n",
    "import boto3\n",
    "from PIL import Image\n",
    "from botocore.config import Config\n",
    "from botocore.exceptions import ClientError"
   ]
  },
  {
   "cell_type": "code",
   "execution_count": 113,
   "id": "9fe005a0-a3ef-4ddf-a46b-bd6d17b47ab2",
   "metadata": {
    "tags": []
   },
   "outputs": [],
   "source": [
    "def generate_image(body):\n",
    "    \"\"\"\n",
    "    Generate an image using Amazon Nova Canvas model on demand.\n",
    "    Args:\n",
    "        body (str) : The request body to use.\n",
    "    Returns:\n",
    "        image_bytes (bytes): The image generated by the model.\n",
    "    \"\"\"\n",
    "\n",
    "    bedrock = boto3.client(\n",
    "        service_name='bedrock-runtime',\n",
    "        region_name='us-east-1',\n",
    "        config=Config(read_timeout=300)\n",
    "    )\n",
    "\n",
    "    accept = \"application/json\"\n",
    "    content_type = \"application/json\"\n",
    "\n",
    "    response = bedrock.invoke_model(\n",
    "        body=body, modelId='amazon.nova-canvas-v1:0', accept=accept, contentType=content_type\n",
    "    )\n",
    "    response_body = json.loads(response.get(\"body\").read())\n",
    "\n",
    "    base64_image = response_body.get(\"images\")[0]\n",
    "    base64_bytes = base64_image.encode('ascii')\n",
    "    image_bytes = base64.b64decode(base64_bytes)\n",
    "\n",
    "    finish_reason = response_body.get(\"error\")\n",
    "\n",
    "    if finish_reason is not None:\n",
    "        raise ImageError(f\"Image generation error. Error is {finish_reason}\")\n",
    "\n",
    "    return image_bytes"
   ]
  },
  {
   "cell_type": "code",
   "execution_count": 114,
   "id": "dd1909bc-8a81-44b4-b5be-f71c469d75b0",
   "metadata": {},
   "outputs": [],
   "source": [
    "body = json.dumps({\n",
    "    \"taskType\": \"TEXT_IMAGE\",\n",
    "    \"textToImageParams\": {\n",
    "        \"text\": generated_prompt,\n",
    "        \"negativeText\":negative_prompt\n",
    "    },\n",
    "    \"imageGenerationConfig\": {\n",
    "        \"numberOfImages\": 2,\n",
    "        \"height\": 1280,\n",
    "        \"width\": 720,\n",
    "        \"cfgScale\": 8.0,\n",
    "        \"seed\": 0\n",
    "    }\n",
    "})\n"
   ]
  },
  {
   "cell_type": "code",
   "execution_count": null,
   "id": "517fed35-4a1d-4c84-a5d4-a7604484cca6",
   "metadata": {
    "tags": []
   },
   "outputs": [],
   "source": [
    "try:\n",
    "    image_bytes = generate_image( body=body)\n",
    "    image = Image.open(io.BytesIO(image_bytes))\n",
    "    image.show()\n",
    "\n",
    "except ClientError as err:\n",
    "    message = err.response[\"Error\"][\"Message\"]\n",
    "    print(\"A client error occured: \" +\n",
    "          format(message))\n",
    "except Exception as err:\n",
    "    print(err.message)\n"
   ]
  },
  {
   "cell_type": "code",
   "execution_count": null,
   "id": "e8ed9ce9-986a-40de-9454-9645d756c6d2",
   "metadata": {},
   "outputs": [],
   "source": []
  }
 ],
 "metadata": {
  "kernelspec": {
   "display_name": "conda_python3",
   "language": "python",
   "name": "conda_python3"
  },
  "language_info": {
   "codemirror_mode": {
    "name": "ipython",
    "version": 3
   },
   "file_extension": ".py",
   "mimetype": "text/x-python",
   "name": "python",
   "nbconvert_exporter": "python",
   "pygments_lexer": "ipython3",
   "version": "3.10.14"
  }
 },
 "nbformat": 4,
 "nbformat_minor": 5
}
